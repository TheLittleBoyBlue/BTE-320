{
  "nbformat": 4,
  "nbformat_minor": 0,
  "metadata": {
    "colab": {
      "provenance": [],
      "authorship_tag": "ABX9TyNWUP/ei+7V5tjFFiX7AXvr",
      "include_colab_link": true
    },
    "kernelspec": {
      "name": "python3",
      "display_name": "Python 3"
    },
    "language_info": {
      "name": "python"
    }
  },
  "cells": [
    {
      "cell_type": "markdown",
      "metadata": {
        "id": "view-in-github",
        "colab_type": "text"
      },
      "source": [
        "<a href=\"https://colab.research.google.com/github/TheLittleBoyBlue/BTE-320/blob/main/2_21_24.ipynb\" target=\"_parent\"><img src=\"https://colab.research.google.com/assets/colab-badge.svg\" alt=\"Open In Colab\"/></a>"
      ]
    },
    {
      "cell_type": "code",
      "execution_count": 13,
      "metadata": {
        "colab": {
          "base_uri": "https://localhost:8080/"
        },
        "id": "jbVGpZZ0NSow",
        "outputId": "f5c84ae8-e675-4e0d-e47a-5e3eb5c157fc"
      },
      "outputs": [
        {
          "output_type": "stream",
          "name": "stdout",
          "text": [
            "Enter a Date: mm/dd/yyyy05/12/2000\n",
            "Month: 05\n",
            "Day: 12\n",
            "Year: 2000\n"
          ]
        }
      ],
      "source": [
        "date = input('Enter a Date: mm/dd/yyyy')\n",
        "\n",
        "month_date = date[0:2]\n",
        "day_date = date[3:5]\n",
        "year_date = date[6:10]\n",
        "\n",
        "print('Month:',month_date)\n",
        "print('Day:',day_date)\n",
        "print('Year:',year_date)\n"
      ]
    }
  ]
}
