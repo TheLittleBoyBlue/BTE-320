{
  "cells": [
    {
      "cell_type": "markdown",
      "metadata": {
        "id": "view-in-github",
        "colab_type": "text"
      },
      "source": [
        "<a href=\"https://colab.research.google.com/github/TheLittleBoyBlue/BTE-320/blob/main/2_12_24.ipynb\" target=\"_parent\"><img src=\"https://colab.research.google.com/assets/colab-badge.svg\" alt=\"Open In Colab\"/></a>"
      ]
    },
    {
      "cell_type": "code",
      "execution_count": null,
      "metadata": {
        "colab": {
          "base_uri": "https://localhost:8080/"
        },
        "id": "jgDJJndB4GXd",
        "outputId": "0f27654b-fb64-4fcd-d85e-3fa78c4b27d5"
      },
      "outputs": [
        {
          "output_type": "stream",
          "name": "stdout",
          "text": [
            "Enter an integer value: 5\n",
            "Enter another integer value: r\n",
            "Invalid input. Please enter a valid number.\n"
          ]
        }
      ],
      "source": [
        "'''\n",
        "Design a calculator:\n",
        "The calculator once starts, cannot stop unless the user chooses to (hint: infinite loop)\n",
        "Implement all numerical operators that we discussed (+, -, *, **, /, //, %)\n",
        "The user has to provide the numbers and the desired operator from the keyboard; then, the calculator will display the result (use three separate calls to function input() for each one of the inputs)\n",
        "\n",
        "Numbers: int or float, operator: str\n",
        "The calculator stops if the user enters the word \"break\" instead of an operator; it skips an iteration if the user gives an operator that is not numerical (e.g., a boolean one)\n",
        "'''\n",
        "while True:\n",
        "  try:\n",
        "    x = float(input('Enter an integer value: '))\n",
        "    y = float(input('Enter another integer value: '))\n",
        "    z = str(input('Enter an operator: '))\n",
        "    if (x) == 'break':\n",
        "      break\n",
        "    elif (y) == 'break':\n",
        "      break\n",
        "    elif (z) == 'break':\n",
        "      break\n",
        "    else:\n",
        "      if z == '+':\n",
        "        print(x+y)\n",
        "      elif z == '-':\n",
        "        print(x-y)\n",
        "      elif z == '*':\n",
        "        print(x*y)\n",
        "      elif z == '/':\n",
        "        print(x/y)\n",
        "      elif z == '//':\n",
        "        print(x//y)\n",
        "      elif z == '%':\n",
        "        print(x%y)\n",
        "      elif z == '**':\n",
        "        print(x**y)\n",
        "  except ValueError:\n",
        "    print(\"Invalid input. Please enter a valid number.\")\n",
        "  except ZeroDivisionError:\n",
        "    print(\"Error: Division by zero.\")\n"
      ]
    }
  ],
  "metadata": {
    "colab": {
      "provenance": [],
      "authorship_tag": "ABX9TyOzZ95Hl1gZcuFL5zmgyIic",
      "include_colab_link": true
    },
    "kernelspec": {
      "display_name": "Python 3",
      "name": "python3"
    },
    "language_info": {
      "name": "python"
    }
  },
  "nbformat": 4,
  "nbformat_minor": 0
}