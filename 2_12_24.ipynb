{
  "cells": [
    {
      "cell_type": "markdown",
      "metadata": {
        "id": "view-in-github",
        "colab_type": "text"
      },
      "source": [
        "<a href=\"https://colab.research.google.com/github/TheLittleBoyBlue/BTE-320/blob/main/2_12_24.ipynb\" target=\"_parent\"><img src=\"https://colab.research.google.com/assets/colab-badge.svg\" alt=\"Open In Colab\"/></a>"
      ]
    },
    {
      "cell_type": "code",
      "execution_count": null,
      "metadata": {
        "colab": {
          "base_uri": "https://localhost:8080/"
        },
        "id": "jgDJJndB4GXd",
        "outputId": "62f7ec0d-03a5-47d2-d2b5-5b2fe33a6e80"
      },
      "outputs": [
        {
          "name": "stdout",
          "output_type": "stream",
          "text": [
            "Enter an integer value: 5\n",
            "Enter another integer value: 5\n",
            "Enter an operator: break\n",
            "Enter an integer value: 5\n",
            "Enter another integer value: 5\n",
            "Enter an operator: break\n"
          ]
        }
      ],
      "source": [
        "#calculator with +,-,*,/,//,%,**\n",
        "#while loop with condition always true(infinite)\n",
        "#use funciton input 3 times, 2 numbers, 1 operator\n",
        "#change input into float\n",
        "#if input is the work \"break\" the interation terminates. also skips an iteration if user gives an operator that is not numerical(continue)\n",
        "while True:\n",
        "  x = float(input('Enter an integer value: '))\n",
        "  y = float(input('Enter another integer value: '))\n",
        "  z = str(input('Enter an operator: '))\n",
        "  if (x, y, z) == 'break':\n",
        "    break\n",
        "  else:\n",
        "    if z == '+':\n",
        "      print(x+y)\n",
        "    elif z == '-':\n",
        "      print(x-y)\n",
        "    elif z == '*':\n",
        "      print(x*y)\n",
        "    elif z == '/':\n",
        "      print(x/y)\n",
        "    elif z == '//':\n",
        "      print(x//y)\n",
        "    elif z == '%':\n",
        "      print(x%y)\n",
        "    elif z == '**':\n",
        "      print(x**y)"
      ]
    }
  ],
  "metadata": {
    "colab": {
      "provenance": [],
      "authorship_tag": "ABX9TyPdNKVgnvijlTvXnz2gk3KP",
      "include_colab_link": true
    },
    "kernelspec": {
      "display_name": "Python 3",
      "name": "python3"
    },
    "language_info": {
      "name": "python"
    }
  },
  "nbformat": 4,
  "nbformat_minor": 0
}