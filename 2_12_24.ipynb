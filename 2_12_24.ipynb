{
  "nbformat": 4,
  "nbformat_minor": 0,
  "metadata": {
    "colab": {
      "provenance": [],
      "authorship_tag": "ABX9TyPWOLjEqE+HZtDxduVtiKF2",
      "include_colab_link": true
    },
    "kernelspec": {
      "name": "python3",
      "display_name": "Python 3"
    },
    "language_info": {
      "name": "python"
    }
  },
  "cells": [
    {
      "cell_type": "markdown",
      "metadata": {
        "id": "view-in-github",
        "colab_type": "text"
      },
      "source": [
        "<a href=\"https://colab.research.google.com/github/TheLittleBoyBlue/BTE-320/blob/main/2_12_24.ipynb\" target=\"_parent\"><img src=\"https://colab.research.google.com/assets/colab-badge.svg\" alt=\"Open In Colab\"/></a>"
      ]
    },
    {
      "cell_type": "code",
      "execution_count": null,
      "metadata": {
        "colab": {
          "base_uri": "https://localhost:8080/"
        },
        "id": "jgDJJndB4GXd",
        "outputId": "ba3d97b8-0f72-45de-c188-2dfc56b0406f"
      },
      "outputs": [
        {
          "output_type": "stream",
          "name": "stdout",
          "text": [
            "Enter an integer value: 5\n",
            "Enter another integer value: 5\n",
            "Enter an operator: +\n",
            "10.0\n",
            "Enter an integer value: 5\n",
            "Enter another integer value: 5\n",
            "Enter an operator: /\n",
            "1.0\n"
          ]
        }
      ],
      "source": [
        "#calculator with +,-,*,/,//,%,**\n",
        "#while loop with condition always true(infinite)\n",
        "#use funciton input 3 times, 2 numbers, 1 operator\n",
        "#change input into float\n",
        "#if input is the work \"break\" the interation terminates. also skips an iteration if user gives an operator that is not numerical(continue)\n",
        "while True:\n",
        "  x = float(input('Enter an integer value: '))\n",
        "  y = float(input('Enter another integer value: '))\n",
        "  z = str(input('Enter an operator: '))\n",
        "\n",
        "  if z == '+':\n",
        "    print(x+y)\n",
        "  elif z == '-':\n",
        "    print(x-y)\n",
        "  elif z == '*':\n",
        "    print(x*y)\n",
        "  elif z == '/':\n",
        "    print(x/y)\n",
        "  elif z == '//':\n",
        "    print(x//y)\n",
        "  elif z == '%':\n",
        "    print(x%y)\n",
        "  elif z == '**':\n",
        "    print(x**y)"
      ]
    }
  ]
}