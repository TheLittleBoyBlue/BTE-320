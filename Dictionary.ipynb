{
  "nbformat": 4,
  "nbformat_minor": 0,
  "metadata": {
    "colab": {
      "provenance": [],
      "authorship_tag": "ABX9TyOGPT9Xaadcc8tp+V7yorHJ",
      "include_colab_link": true
    },
    "kernelspec": {
      "name": "python3",
      "display_name": "Python 3"
    },
    "language_info": {
      "name": "python"
    }
  },
  "cells": [
    {
      "cell_type": "markdown",
      "metadata": {
        "id": "view-in-github",
        "colab_type": "text"
      },
      "source": [
        "<a href=\"https://colab.research.google.com/github/TheLittleBoyBlue/BTE-320/blob/main/Dictionary.ipynb\" target=\"_parent\"><img src=\"https://colab.research.google.com/assets/colab-badge.svg\" alt=\"Open In Colab\"/></a>"
      ]
    },
    {
      "cell_type": "code",
      "execution_count": 1,
      "metadata": {
        "colab": {
          "base_uri": "https://localhost:8080/"
        },
        "id": "KFGvvpSoCfIm",
        "outputId": "ac5428e1-845b-4de8-c0c3-d0ce9eace22a"
      },
      "outputs": [
        {
          "output_type": "stream",
          "name": "stdout",
          "text": [
            "{1: 'Jan',\n",
            " 2: 'Feb',\n",
            " 3: 'Mar',\n",
            " 4: 'Apr',\n",
            " 5: 'May',\n",
            " 6: 'Jun',\n",
            " 7: 'Jul',\n",
            " 8: 'Aug',\n",
            " 9: 'Sep',\n",
            " 10: 'Oct',\n",
            " 11: 'Nov',\n",
            " 12: 'Dec'}\n"
          ]
        }
      ],
      "source": [
        "import pprint\n",
        "months = {}\n",
        "\n",
        "numbers = [1,2,3,4,5,6,7,8,9,10,11,12]\n",
        "names = [\"Jan\",\"Feb\",\"Mar\",\"Apr\",\"May\",\"Jun\",\"Jul\",\"Aug\",\"Sep\",\"Oct\",\"Nov\",\"Dec\"]\n",
        "\n",
        "for key in range(len(numbers)):\n",
        "  months[numbers[key]]=names[key]\n",
        "\n",
        "pprint.pprint(months)"
      ]
    }
  ]
}