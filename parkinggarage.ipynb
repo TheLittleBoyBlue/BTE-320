{
  "nbformat": 4,
  "nbformat_minor": 0,
  "metadata": {
    "colab": {
      "provenance": [],
      "authorship_tag": "ABX9TyOAxtM4wiLvTcceoXUCYiyD",
      "include_colab_link": true
    },
    "kernelspec": {
      "name": "python3",
      "display_name": "Python 3"
    },
    "language_info": {
      "name": "python"
    }
  },
  "cells": [
    {
      "cell_type": "markdown",
      "metadata": {
        "id": "view-in-github",
        "colab_type": "text"
      },
      "source": [
        "<a href=\"https://colab.research.google.com/github/TheLittleBoyBlue/BTE-320/blob/main/parkinggarage.ipynb\" target=\"_parent\"><img src=\"https://colab.research.google.com/assets/colab-badge.svg\" alt=\"Open In Colab\"/></a>"
      ]
    },
    {
      "cell_type": "code",
      "execution_count": null,
      "metadata": {
        "id": "w8059u-VtwJJ"
      },
      "outputs": [],
      "source": [
        "hours = int(input('Enter number of house parked: '))\n",
        "fee = 2.5 * hours\n",
        "if fee <= 6:\n",
        "  print(6)\n",
        "elif fee>=20:\n",
        "  print(20)\n",
        "else:\n",
        "  print(fee)"
      ]
    }
  ]
}