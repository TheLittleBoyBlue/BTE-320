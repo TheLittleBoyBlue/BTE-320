{
  "nbformat": 4,
  "nbformat_minor": 0,
  "metadata": {
    "colab": {
      "provenance": [],
      "authorship_tag": "ABX9TyMaOjOfMk3G4+FTW0dzPSN/",
      "include_colab_link": true
    },
    "kernelspec": {
      "name": "python3",
      "display_name": "Python 3"
    },
    "language_info": {
      "name": "python"
    }
  },
  "cells": [
    {
      "cell_type": "markdown",
      "metadata": {
        "id": "view-in-github",
        "colab_type": "text"
      },
      "source": [
        "<a href=\"https://colab.research.google.com/github/TheLittleBoyBlue/BTE-320/blob/main/classMortgage.ipynb\" target=\"_parent\"><img src=\"https://colab.research.google.com/assets/colab-badge.svg\" alt=\"Open In Colab\"/></a>"
      ]
    },
    {
      "cell_type": "code",
      "execution_count": 3,
      "metadata": {
        "id": "QPHSai62qjTv"
      },
      "outputs": [],
      "source": [
        "class Mortgage:\n",
        "  def __init__(self, amount, maturity, interest):\n",
        "    self.amount = amount\n",
        "    self.maturity = maturity\n",
        "    self.interest = interest\n",
        "\n",
        "  def __str__(self):\n",
        "    return f'Mortgage info: \\n Initial loan amount: {self.amount} $\\n Maturity term: {self.maturity} years\\n Interest rate: {self.__interest}%'\n",
        "\n",
        "  def get_interest(self):\n",
        "    return self.interst\n",
        "\n",
        "  def set_interest(self, newInterest):\n",
        "    if newinterest >=0:\n",
        "      self.interest = newInterest\n",
        "    else:\n",
        "      print('Interest must be non-negative!')\n",
        "\n",
        "  def payment(self):\n",
        "    B = self.amount\n",
        "    n = self.maturity * 12\n",
        "    r = self.__interest / 100\n",
        "\n",
        "    return (B * (r * (1 + r) ** n) / ((1 + r) ** n - 1))\n",
        "\n",
        "\n"
      ]
    },
    {
      "cell_type": "code",
      "source": [
        "m = Mortgage(100000,30,6)\n",
        "\n"
      ],
      "metadata": {
        "id": "WeU8-NY7tXcf"
      },
      "execution_count": 4,
      "outputs": []
    },
    {
      "cell_type": "code",
      "source": [],
      "metadata": {
        "colab": {
          "base_uri": "https://localhost:8080/",
          "height": 263
        },
        "id": "oP2zrswmwkGM",
        "outputId": "eed37728-9dcb-4cc7-993b-11cdc777a48d"
      },
      "execution_count": 6,
      "outputs": [
        {
          "output_type": "error",
          "ename": "AttributeError",
          "evalue": "'Mortgage' object has no attribute '_Mortgage__interest'",
          "traceback": [
            "\u001b[0;31m---------------------------------------------------------------------------\u001b[0m",
            "\u001b[0;31mAttributeError\u001b[0m                            Traceback (most recent call last)",
            "\u001b[0;32m<ipython-input-6-c384c0c7b6c7>\u001b[0m in \u001b[0;36m<cell line: 1>\u001b[0;34m()\u001b[0m\n\u001b[0;32m----> 1\u001b[0;31m \u001b[0mprint\u001b[0m\u001b[0;34m(\u001b[0m\u001b[0mm\u001b[0m\u001b[0;34m)\u001b[0m\u001b[0;34m\u001b[0m\u001b[0;34m\u001b[0m\u001b[0m\n\u001b[0m",
            "\u001b[0;32m<ipython-input-3-931d61a3cfca>\u001b[0m in \u001b[0;36m__str__\u001b[0;34m(self)\u001b[0m\n\u001b[1;32m      6\u001b[0m \u001b[0;34m\u001b[0m\u001b[0m\n\u001b[1;32m      7\u001b[0m   \u001b[0;32mdef\u001b[0m \u001b[0m__str__\u001b[0m\u001b[0;34m(\u001b[0m\u001b[0mself\u001b[0m\u001b[0;34m)\u001b[0m\u001b[0;34m:\u001b[0m\u001b[0;34m\u001b[0m\u001b[0;34m\u001b[0m\u001b[0m\n\u001b[0;32m----> 8\u001b[0;31m     \u001b[0;32mreturn\u001b[0m \u001b[0;34mf'Mortgage info: \\n Initial loan amount: {self.amount} $\\n Maturity term: {self.maturity} years\\n Interest rate: {self.__interest}%'\u001b[0m\u001b[0;34m\u001b[0m\u001b[0;34m\u001b[0m\u001b[0m\n\u001b[0m\u001b[1;32m      9\u001b[0m \u001b[0;34m\u001b[0m\u001b[0m\n\u001b[1;32m     10\u001b[0m   \u001b[0;32mdef\u001b[0m \u001b[0mget_interest\u001b[0m\u001b[0;34m(\u001b[0m\u001b[0mself\u001b[0m\u001b[0;34m)\u001b[0m\u001b[0;34m:\u001b[0m\u001b[0;34m\u001b[0m\u001b[0;34m\u001b[0m\u001b[0m\n",
            "\u001b[0;31mAttributeError\u001b[0m: 'Mortgage' object has no attribute '_Mortgage__interest'"
          ]
        }
      ]
    }
  ]
}